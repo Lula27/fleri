{
 "cells": [
  {
   "cell_type": "markdown",
   "metadata": {},
   "source": [
    "# Fleri Pricing Structure Predition\n",
    "Author: Loretta Agyemang <br>\n"
   ]
  },
  {
   "cell_type": "code",
   "execution_count": 3,
   "metadata": {},
   "outputs": [],
   "source": [
    "# Import packages \n",
    "\n",
    "import pandas as pd\n",
    "import numpy as np \n",
    "import matplotlib as plt \n",
    "import matplotlib.pyplot as plt\n",
    "import seaborn as sns\n",
    "import sys\n",
    "import time\n",
    "sns.set()\n",
    "import warnings\n",
    "warnings.filterwarnings(\"ignore\")\n",
    "\n",
    "# Machine learning packages\n",
    "import statsmodels.api as sm\n",
    "from sklearn.ensemble import RandomForestRegressor\n",
    "from sklearn.model_selection import cross_val_predict\n",
    "from sklearn.model_selection import GridSearchCV\n"
   ]
  },
  {
   "cell_type": "code",
   "execution_count": 4,
   "metadata": {},
   "outputs": [
    {
     "data": {
      "text/html": [
       "<div>\n",
       "<style scoped>\n",
       "    .dataframe tbody tr th:only-of-type {\n",
       "        vertical-align: middle;\n",
       "    }\n",
       "\n",
       "    .dataframe tbody tr th {\n",
       "        vertical-align: top;\n",
       "    }\n",
       "\n",
       "    .dataframe thead th {\n",
       "        text-align: right;\n",
       "    }\n",
       "</style>\n",
       "<table border=\"1\" class=\"dataframe\">\n",
       "  <thead>\n",
       "    <tr style=\"text-align: right;\">\n",
       "      <th></th>\n",
       "      <th>Category</th>\n",
       "      <th>Country</th>\n",
       "      <th>Age range</th>\n",
       "      <th>Plan type</th>\n",
       "      <th>Product name</th>\n",
       "      <th>Payment Schedule</th>\n",
       "      <th>partner name</th>\n",
       "      <th>Base Price</th>\n",
       "      <th>Convenience fee</th>\n",
       "      <th>Selling Price</th>\n",
       "      <th>Platform fee</th>\n",
       "      <th>Total Revenue</th>\n",
       "    </tr>\n",
       "  </thead>\n",
       "  <tbody>\n",
       "    <tr>\n",
       "      <th>0</th>\n",
       "      <td>Comprehensive</td>\n",
       "      <td>Ghana</td>\n",
       "      <td>0-59</td>\n",
       "      <td>Single</td>\n",
       "      <td>Fleri Bronze</td>\n",
       "      <td>Monthly</td>\n",
       "      <td>Nationwide</td>\n",
       "      <td>29.0</td>\n",
       "      <td>39.2</td>\n",
       "      <td>68.15</td>\n",
       "      <td>2.03</td>\n",
       "      <td>70.18</td>\n",
       "    </tr>\n",
       "    <tr>\n",
       "      <th>1</th>\n",
       "      <td>Comprehensive</td>\n",
       "      <td>Ghana</td>\n",
       "      <td>0-59</td>\n",
       "      <td>Single</td>\n",
       "      <td>Fleri Silver</td>\n",
       "      <td>Monthly</td>\n",
       "      <td>Nationwide</td>\n",
       "      <td>39.0</td>\n",
       "      <td>52.7</td>\n",
       "      <td>91.65</td>\n",
       "      <td>2.73</td>\n",
       "      <td>94.38</td>\n",
       "    </tr>\n",
       "    <tr>\n",
       "      <th>2</th>\n",
       "      <td>Comprehensive</td>\n",
       "      <td>Ghana</td>\n",
       "      <td>0-59</td>\n",
       "      <td>Single</td>\n",
       "      <td>Fleri Gold</td>\n",
       "      <td>Monthly</td>\n",
       "      <td>Nationwide</td>\n",
       "      <td>57.0</td>\n",
       "      <td>77.0</td>\n",
       "      <td>133.95</td>\n",
       "      <td>3.99</td>\n",
       "      <td>137.94</td>\n",
       "    </tr>\n",
       "    <tr>\n",
       "      <th>3</th>\n",
       "      <td>Comprehensive</td>\n",
       "      <td>Ghana</td>\n",
       "      <td>0-59</td>\n",
       "      <td>Single</td>\n",
       "      <td>Fleri Platinum</td>\n",
       "      <td>Monthly</td>\n",
       "      <td>Nationwide</td>\n",
       "      <td>70.0</td>\n",
       "      <td>94.5</td>\n",
       "      <td>164.50</td>\n",
       "      <td>4.90</td>\n",
       "      <td>169.40</td>\n",
       "    </tr>\n",
       "    <tr>\n",
       "      <th>4</th>\n",
       "      <td>Comprehensive</td>\n",
       "      <td>Ghana</td>\n",
       "      <td>60-69</td>\n",
       "      <td>Single</td>\n",
       "      <td>Fleri Bronze</td>\n",
       "      <td>Monthly</td>\n",
       "      <td>Nationwide</td>\n",
       "      <td>32.0</td>\n",
       "      <td>43.2</td>\n",
       "      <td>75.20</td>\n",
       "      <td>2.24</td>\n",
       "      <td>77.44</td>\n",
       "    </tr>\n",
       "  </tbody>\n",
       "</table>\n",
       "</div>"
      ],
      "text/plain": [
       "        Category Country Age range Plan type    Product name Payment Schedule  \\\n",
       "0  Comprehensive   Ghana      0-59    Single    Fleri Bronze          Monthly   \n",
       "1  Comprehensive   Ghana      0-59    Single    Fleri Silver          Monthly   \n",
       "2  Comprehensive   Ghana      0-59    Single      Fleri Gold          Monthly   \n",
       "3  Comprehensive   Ghana      0-59    Single  Fleri Platinum          Monthly   \n",
       "4  Comprehensive   Ghana     60-69    Single    Fleri Bronze          Monthly   \n",
       "\n",
       "  partner name  Base Price  Convenience fee  Selling Price  Platform fee  \\\n",
       "0   Nationwide        29.0             39.2          68.15          2.03   \n",
       "1   Nationwide        39.0             52.7          91.65          2.73   \n",
       "2   Nationwide        57.0             77.0         133.95          3.99   \n",
       "3   Nationwide        70.0             94.5         164.50          4.90   \n",
       "4   Nationwide        32.0             43.2          75.20          2.24   \n",
       "\n",
       "   Total Revenue  \n",
       "0          70.18  \n",
       "1          94.38  \n",
       "2         137.94  \n",
       "3         169.40  \n",
       "4          77.44  "
      ]
     },
     "execution_count": 4,
     "metadata": {},
     "output_type": "execute_result"
    }
   ],
   "source": [
    "data = pd.read_csv('pricingstructure.csv')\n",
    "\n",
    "data.head()"
   ]
  },
  {
   "cell_type": "code",
   "execution_count": 50,
   "metadata": {},
   "outputs": [
    {
     "data": {
      "text/plain": [
       "array(['Monthly', 'Quarterly', 'Semi-annual', 'Annual'], dtype=object)"
      ]
     },
     "execution_count": 50,
     "metadata": {},
     "output_type": "execute_result"
    }
   ],
   "source": [
    "data['Payment Schedule'].unique()"
   ]
  },
  {
   "cell_type": "code",
   "execution_count": 5,
   "metadata": {},
   "outputs": [
    {
     "name": "stdout",
     "output_type": "stream",
     "text": [
      "<class 'pandas.core.frame.DataFrame'>\n",
      "RangeIndex: 240 entries, 0 to 239\n",
      "Data columns (total 12 columns):\n",
      "Category            240 non-null object\n",
      "Country             240 non-null object\n",
      "Age range           240 non-null object\n",
      "Plan type           240 non-null object\n",
      "Product name        240 non-null object\n",
      "Payment Schedule    240 non-null object\n",
      "partner name        240 non-null object\n",
      "Base Price          240 non-null float64\n",
      "Convenience fee     240 non-null float64\n",
      "Selling Price       240 non-null float64\n",
      "Platform fee        240 non-null float64\n",
      "Total Revenue       240 non-null float64\n",
      "dtypes: float64(5), object(7)\n",
      "memory usage: 22.6+ KB\n"
     ]
    }
   ],
   "source": [
    "data.info()"
   ]
  },
  {
   "cell_type": "code",
   "execution_count": 6,
   "metadata": {},
   "outputs": [
    {
     "data": {
      "text/plain": [
       "0"
      ]
     },
     "execution_count": 6,
     "metadata": {},
     "output_type": "execute_result"
    }
   ],
   "source": [
    "data['Base Price'].isnull().sum()"
   ]
  },
  {
   "cell_type": "code",
   "execution_count": 7,
   "metadata": {},
   "outputs": [
    {
     "data": {
      "text/plain": [
       "array(['Nationwide', 'Glico', 'RelianceHMO'], dtype=object)"
      ]
     },
     "execution_count": 7,
     "metadata": {},
     "output_type": "execute_result"
    }
   ],
   "source": [
    "data['partner name'].unique()"
   ]
  },
  {
   "cell_type": "code",
   "execution_count": 8,
   "metadata": {},
   "outputs": [
    {
     "data": {
      "text/plain": [
       "array(['Fleri Bronze', 'Fleri Silver', 'Fleri Gold', 'Fleri Platinum'],\n",
       "      dtype=object)"
      ]
     },
     "execution_count": 8,
     "metadata": {},
     "output_type": "execute_result"
    }
   ],
   "source": [
    "data['Product name'].unique()"
   ]
  },
  {
   "cell_type": "code",
   "execution_count": 9,
   "metadata": {},
   "outputs": [
    {
     "data": {
      "text/plain": [
       "(144, 12)"
      ]
     },
     "execution_count": 9,
     "metadata": {},
     "output_type": "execute_result"
    }
   ],
   "source": [
    "# Subset by partner name \n",
    "\n",
    "nationwide = data[data[\"partner name\"] == \"Nationwide\"]\n",
    "\n",
    "nationwide.shape"
   ]
  },
  {
   "cell_type": "code",
   "execution_count": 10,
   "metadata": {},
   "outputs": [
    {
     "data": {
      "text/html": [
       "<div>\n",
       "<style scoped>\n",
       "    .dataframe tbody tr th:only-of-type {\n",
       "        vertical-align: middle;\n",
       "    }\n",
       "\n",
       "    .dataframe tbody tr th {\n",
       "        vertical-align: top;\n",
       "    }\n",
       "\n",
       "    .dataframe thead th {\n",
       "        text-align: right;\n",
       "    }\n",
       "</style>\n",
       "<table border=\"1\" class=\"dataframe\">\n",
       "  <thead>\n",
       "    <tr style=\"text-align: right;\">\n",
       "      <th></th>\n",
       "      <th>Category</th>\n",
       "      <th>Country</th>\n",
       "      <th>Age range</th>\n",
       "      <th>Plan type</th>\n",
       "      <th>Product name</th>\n",
       "      <th>Payment Schedule</th>\n",
       "      <th>partner name</th>\n",
       "      <th>Base Price</th>\n",
       "      <th>Convenience fee</th>\n",
       "      <th>Selling Price</th>\n",
       "      <th>Platform fee</th>\n",
       "      <th>Total Revenue</th>\n",
       "    </tr>\n",
       "  </thead>\n",
       "  <tbody>\n",
       "    <tr>\n",
       "      <th>155</th>\n",
       "      <td>Comprehensive</td>\n",
       "      <td>Nigeria</td>\n",
       "      <td>0-80</td>\n",
       "      <td>Single</td>\n",
       "      <td>Fleri Gold</td>\n",
       "      <td>Annual</td>\n",
       "      <td>RelianceHMO</td>\n",
       "      <td>206.0</td>\n",
       "      <td>278.1</td>\n",
       "      <td>484.10</td>\n",
       "      <td>20.60</td>\n",
       "      <td>504.70</td>\n",
       "    </tr>\n",
       "    <tr>\n",
       "      <th>156</th>\n",
       "      <td>Comprehensive</td>\n",
       "      <td>Nigeria</td>\n",
       "      <td>0-80</td>\n",
       "      <td>Single</td>\n",
       "      <td>Fleri Platinum</td>\n",
       "      <td>Monthly</td>\n",
       "      <td>RelianceHMO</td>\n",
       "      <td>71.5</td>\n",
       "      <td>96.5</td>\n",
       "      <td>168.03</td>\n",
       "      <td>7.15</td>\n",
       "      <td>175.18</td>\n",
       "    </tr>\n",
       "    <tr>\n",
       "      <th>157</th>\n",
       "      <td>Comprehensive</td>\n",
       "      <td>Nigeria</td>\n",
       "      <td>0-80</td>\n",
       "      <td>Single</td>\n",
       "      <td>Fleri Platinum</td>\n",
       "      <td>Quarterly</td>\n",
       "      <td>RelianceHMO</td>\n",
       "      <td>214.5</td>\n",
       "      <td>289.6</td>\n",
       "      <td>504.08</td>\n",
       "      <td>21.45</td>\n",
       "      <td>525.53</td>\n",
       "    </tr>\n",
       "    <tr>\n",
       "      <th>158</th>\n",
       "      <td>Comprehensive</td>\n",
       "      <td>Nigeria</td>\n",
       "      <td>0-80</td>\n",
       "      <td>Single</td>\n",
       "      <td>Fleri Platinum</td>\n",
       "      <td>Semi-annual</td>\n",
       "      <td>RelianceHMO</td>\n",
       "      <td>429.0</td>\n",
       "      <td>579.2</td>\n",
       "      <td>1008.15</td>\n",
       "      <td>42.90</td>\n",
       "      <td>1051.05</td>\n",
       "    </tr>\n",
       "    <tr>\n",
       "      <th>159</th>\n",
       "      <td>Comprehensive</td>\n",
       "      <td>Nigeria</td>\n",
       "      <td>0-80</td>\n",
       "      <td>Single</td>\n",
       "      <td>Fleri Platinum</td>\n",
       "      <td>Annual</td>\n",
       "      <td>RelianceHMO</td>\n",
       "      <td>858.0</td>\n",
       "      <td>1158.3</td>\n",
       "      <td>2016.30</td>\n",
       "      <td>85.80</td>\n",
       "      <td>2102.10</td>\n",
       "    </tr>\n",
       "  </tbody>\n",
       "</table>\n",
       "</div>"
      ],
      "text/plain": [
       "          Category  Country Age range Plan type    Product name  \\\n",
       "155  Comprehensive  Nigeria      0-80    Single      Fleri Gold   \n",
       "156  Comprehensive  Nigeria      0-80    Single  Fleri Platinum   \n",
       "157  Comprehensive  Nigeria      0-80    Single  Fleri Platinum   \n",
       "158  Comprehensive  Nigeria      0-80    Single  Fleri Platinum   \n",
       "159  Comprehensive  Nigeria      0-80    Single  Fleri Platinum   \n",
       "\n",
       "    Payment Schedule partner name  Base Price  Convenience fee  Selling Price  \\\n",
       "155           Annual  RelianceHMO       206.0            278.1         484.10   \n",
       "156          Monthly  RelianceHMO        71.5             96.5         168.03   \n",
       "157        Quarterly  RelianceHMO       214.5            289.6         504.08   \n",
       "158      Semi-annual  RelianceHMO       429.0            579.2        1008.15   \n",
       "159           Annual  RelianceHMO       858.0           1158.3        2016.30   \n",
       "\n",
       "     Platform fee  Total Revenue  \n",
       "155         20.60         504.70  \n",
       "156          7.15         175.18  \n",
       "157         21.45         525.53  \n",
       "158         42.90        1051.05  \n",
       "159         85.80        2102.10  "
      ]
     },
     "execution_count": 10,
     "metadata": {},
     "output_type": "execute_result"
    }
   ],
   "source": [
    "reliance = data[data[\"partner name\"] == \"RelianceHMO\"]\n",
    "\n",
    "reliance.tail()"
   ]
  },
  {
   "cell_type": "code",
   "execution_count": 11,
   "metadata": {},
   "outputs": [
    {
     "data": {
      "text/plain": [
       "(32, 12)"
      ]
     },
     "execution_count": 11,
     "metadata": {},
     "output_type": "execute_result"
    }
   ],
   "source": [
    "reliance.shape"
   ]
  },
  {
   "cell_type": "code",
   "execution_count": 12,
   "metadata": {},
   "outputs": [
    {
     "data": {
      "text/html": [
       "<div>\n",
       "<style scoped>\n",
       "    .dataframe tbody tr th:only-of-type {\n",
       "        vertical-align: middle;\n",
       "    }\n",
       "\n",
       "    .dataframe tbody tr th {\n",
       "        vertical-align: top;\n",
       "    }\n",
       "\n",
       "    .dataframe thead th {\n",
       "        text-align: right;\n",
       "    }\n",
       "</style>\n",
       "<table border=\"1\" class=\"dataframe\">\n",
       "  <thead>\n",
       "    <tr style=\"text-align: right;\">\n",
       "      <th></th>\n",
       "      <th>Category</th>\n",
       "      <th>Country</th>\n",
       "      <th>Age range</th>\n",
       "      <th>Plan type</th>\n",
       "      <th>Product name</th>\n",
       "      <th>Payment Schedule</th>\n",
       "      <th>partner name</th>\n",
       "      <th>Base Price</th>\n",
       "      <th>Convenience fee</th>\n",
       "      <th>Selling Price</th>\n",
       "      <th>Platform fee</th>\n",
       "      <th>Total Revenue</th>\n",
       "    </tr>\n",
       "  </thead>\n",
       "  <tbody>\n",
       "    <tr>\n",
       "      <th>0</th>\n",
       "      <td>Comprehensive</td>\n",
       "      <td>Ghana</td>\n",
       "      <td>0-59</td>\n",
       "      <td>Single</td>\n",
       "      <td>Fleri Bronze</td>\n",
       "      <td>Monthly</td>\n",
       "      <td>Nationwide</td>\n",
       "      <td>29.0</td>\n",
       "      <td>39.2</td>\n",
       "      <td>68.15</td>\n",
       "      <td>2.03</td>\n",
       "      <td>70.18</td>\n",
       "    </tr>\n",
       "    <tr>\n",
       "      <th>1</th>\n",
       "      <td>Comprehensive</td>\n",
       "      <td>Ghana</td>\n",
       "      <td>0-59</td>\n",
       "      <td>Single</td>\n",
       "      <td>Fleri Silver</td>\n",
       "      <td>Monthly</td>\n",
       "      <td>Nationwide</td>\n",
       "      <td>39.0</td>\n",
       "      <td>52.7</td>\n",
       "      <td>91.65</td>\n",
       "      <td>2.73</td>\n",
       "      <td>94.38</td>\n",
       "    </tr>\n",
       "    <tr>\n",
       "      <th>2</th>\n",
       "      <td>Comprehensive</td>\n",
       "      <td>Ghana</td>\n",
       "      <td>0-59</td>\n",
       "      <td>Single</td>\n",
       "      <td>Fleri Gold</td>\n",
       "      <td>Monthly</td>\n",
       "      <td>Nationwide</td>\n",
       "      <td>57.0</td>\n",
       "      <td>77.0</td>\n",
       "      <td>133.95</td>\n",
       "      <td>3.99</td>\n",
       "      <td>137.94</td>\n",
       "    </tr>\n",
       "    <tr>\n",
       "      <th>3</th>\n",
       "      <td>Comprehensive</td>\n",
       "      <td>Ghana</td>\n",
       "      <td>0-59</td>\n",
       "      <td>Single</td>\n",
       "      <td>Fleri Platinum</td>\n",
       "      <td>Monthly</td>\n",
       "      <td>Nationwide</td>\n",
       "      <td>70.0</td>\n",
       "      <td>94.5</td>\n",
       "      <td>164.50</td>\n",
       "      <td>4.90</td>\n",
       "      <td>169.40</td>\n",
       "    </tr>\n",
       "    <tr>\n",
       "      <th>4</th>\n",
       "      <td>Comprehensive</td>\n",
       "      <td>Ghana</td>\n",
       "      <td>60-69</td>\n",
       "      <td>Single</td>\n",
       "      <td>Fleri Bronze</td>\n",
       "      <td>Monthly</td>\n",
       "      <td>Nationwide</td>\n",
       "      <td>32.0</td>\n",
       "      <td>43.2</td>\n",
       "      <td>75.20</td>\n",
       "      <td>2.24</td>\n",
       "      <td>77.44</td>\n",
       "    </tr>\n",
       "  </tbody>\n",
       "</table>\n",
       "</div>"
      ],
      "text/plain": [
       "        Category Country Age range Plan type    Product name Payment Schedule  \\\n",
       "0  Comprehensive   Ghana      0-59    Single    Fleri Bronze          Monthly   \n",
       "1  Comprehensive   Ghana      0-59    Single    Fleri Silver          Monthly   \n",
       "2  Comprehensive   Ghana      0-59    Single      Fleri Gold          Monthly   \n",
       "3  Comprehensive   Ghana      0-59    Single  Fleri Platinum          Monthly   \n",
       "4  Comprehensive   Ghana     60-69    Single    Fleri Bronze          Monthly   \n",
       "\n",
       "  partner name  Base Price  Convenience fee  Selling Price  Platform fee  \\\n",
       "0   Nationwide        29.0             39.2          68.15          2.03   \n",
       "1   Nationwide        39.0             52.7          91.65          2.73   \n",
       "2   Nationwide        57.0             77.0         133.95          3.99   \n",
       "3   Nationwide        70.0             94.5         164.50          4.90   \n",
       "4   Nationwide        32.0             43.2          75.20          2.24   \n",
       "\n",
       "   Total Revenue  \n",
       "0          70.18  \n",
       "1          94.38  \n",
       "2         137.94  \n",
       "3         169.40  \n",
       "4          77.44  "
      ]
     },
     "execution_count": 12,
     "metadata": {},
     "output_type": "execute_result"
    }
   ],
   "source": [
    "nationwide.head()"
   ]
  },
  {
   "cell_type": "code",
   "execution_count": 13,
   "metadata": {},
   "outputs": [
    {
     "data": {
      "text/plain": [
       "(144, 12)"
      ]
     },
     "execution_count": 13,
     "metadata": {},
     "output_type": "execute_result"
    }
   ],
   "source": [
    "nationwide.shape"
   ]
  },
  {
   "cell_type": "code",
   "execution_count": 51,
   "metadata": {},
   "outputs": [
    {
     "data": {
      "text/plain": [
       "array(['Monthly', 'Quarterly', 'Semi-annual', 'Annual'], dtype=object)"
      ]
     },
     "execution_count": 51,
     "metadata": {},
     "output_type": "execute_result"
    }
   ],
   "source": [
    "nationwide['Payment Schedule'].unique()"
   ]
  },
  {
   "cell_type": "code",
   "execution_count": 54,
   "metadata": {},
   "outputs": [
    {
     "data": {
      "text/plain": [
       "(36, 12)"
      ]
     },
     "execution_count": 54,
     "metadata": {},
     "output_type": "execute_result"
    }
   ],
   "source": [
    "# Work with only monthly repayments\n",
    "\n",
    "nm = nationwide[nationwide['Payment Schedule'] == 'Monthly']\n",
    "\n",
    "nm.shape"
   ]
  },
  {
   "cell_type": "code",
   "execution_count": 55,
   "metadata": {},
   "outputs": [
    {
     "data": {
      "text/html": [
       "<div>\n",
       "<style scoped>\n",
       "    .dataframe tbody tr th:only-of-type {\n",
       "        vertical-align: middle;\n",
       "    }\n",
       "\n",
       "    .dataframe tbody tr th {\n",
       "        vertical-align: top;\n",
       "    }\n",
       "\n",
       "    .dataframe thead th {\n",
       "        text-align: right;\n",
       "    }\n",
       "</style>\n",
       "<table border=\"1\" class=\"dataframe\">\n",
       "  <thead>\n",
       "    <tr style=\"text-align: right;\">\n",
       "      <th></th>\n",
       "      <th>Plan type</th>\n",
       "      <th>Product name</th>\n",
       "      <th>Payment Schedule</th>\n",
       "      <th>Base Price</th>\n",
       "      <th>Convenience fee</th>\n",
       "      <th>Selling Price</th>\n",
       "      <th>Platform fee</th>\n",
       "      <th>Total Revenue</th>\n",
       "    </tr>\n",
       "  </thead>\n",
       "  <tbody>\n",
       "    <tr>\n",
       "      <th>0</th>\n",
       "      <td>Single</td>\n",
       "      <td>Fleri Bronze</td>\n",
       "      <td>Monthly</td>\n",
       "      <td>29.0</td>\n",
       "      <td>39.2</td>\n",
       "      <td>68.15</td>\n",
       "      <td>2.03</td>\n",
       "      <td>70.18</td>\n",
       "    </tr>\n",
       "    <tr>\n",
       "      <th>1</th>\n",
       "      <td>Single</td>\n",
       "      <td>Fleri Silver</td>\n",
       "      <td>Monthly</td>\n",
       "      <td>39.0</td>\n",
       "      <td>52.7</td>\n",
       "      <td>91.65</td>\n",
       "      <td>2.73</td>\n",
       "      <td>94.38</td>\n",
       "    </tr>\n",
       "    <tr>\n",
       "      <th>2</th>\n",
       "      <td>Single</td>\n",
       "      <td>Fleri Gold</td>\n",
       "      <td>Monthly</td>\n",
       "      <td>57.0</td>\n",
       "      <td>77.0</td>\n",
       "      <td>133.95</td>\n",
       "      <td>3.99</td>\n",
       "      <td>137.94</td>\n",
       "    </tr>\n",
       "    <tr>\n",
       "      <th>3</th>\n",
       "      <td>Single</td>\n",
       "      <td>Fleri Platinum</td>\n",
       "      <td>Monthly</td>\n",
       "      <td>70.0</td>\n",
       "      <td>94.5</td>\n",
       "      <td>164.50</td>\n",
       "      <td>4.90</td>\n",
       "      <td>169.40</td>\n",
       "    </tr>\n",
       "    <tr>\n",
       "      <th>4</th>\n",
       "      <td>Single</td>\n",
       "      <td>Fleri Bronze</td>\n",
       "      <td>Monthly</td>\n",
       "      <td>32.0</td>\n",
       "      <td>43.2</td>\n",
       "      <td>75.20</td>\n",
       "      <td>2.24</td>\n",
       "      <td>77.44</td>\n",
       "    </tr>\n",
       "  </tbody>\n",
       "</table>\n",
       "</div>"
      ],
      "text/plain": [
       "  Plan type    Product name Payment Schedule  Base Price  Convenience fee  \\\n",
       "0    Single    Fleri Bronze          Monthly        29.0             39.2   \n",
       "1    Single    Fleri Silver          Monthly        39.0             52.7   \n",
       "2    Single      Fleri Gold          Monthly        57.0             77.0   \n",
       "3    Single  Fleri Platinum          Monthly        70.0             94.5   \n",
       "4    Single    Fleri Bronze          Monthly        32.0             43.2   \n",
       "\n",
       "   Selling Price  Platform fee  Total Revenue  \n",
       "0          68.15          2.03          70.18  \n",
       "1          91.65          2.73          94.38  \n",
       "2         133.95          3.99         137.94  \n",
       "3         164.50          4.90         169.40  \n",
       "4          75.20          2.24          77.44  "
      ]
     },
     "execution_count": 55,
     "metadata": {},
     "output_type": "execute_result"
    }
   ],
   "source": [
    "# Start with Nationwide - subset dataset \n",
    "\n",
    "cols = [\"Plan type\", \"Product name\", \"Payment Schedule\", \"Base Price\", \"Convenience fee\", \"Selling Price\", \"Platform fee\", \"Total Revenue\"]\n",
    "\n",
    "ndata = nm[[\"Plan type\", \"Product name\", \"Payment Schedule\", \"Base Price\", \"Convenience fee\", \"Selling Price\", \"Platform fee\", \"Total Revenue\"]]\n",
    "\n",
    "ndata.head()"
   ]
  },
  {
   "cell_type": "code",
   "execution_count": 56,
   "metadata": {},
   "outputs": [
    {
     "data": {
      "text/plain": [
       "(36, 8)"
      ]
     },
     "execution_count": 56,
     "metadata": {},
     "output_type": "execute_result"
    }
   ],
   "source": [
    "ndata.shape"
   ]
  },
  {
   "cell_type": "code",
   "execution_count": 57,
   "metadata": {},
   "outputs": [
    {
     "data": {
      "text/plain": [
       "Plan type           False\n",
       "Product name        False\n",
       "Payment Schedule    False\n",
       "Base Price          False\n",
       "Convenience fee     False\n",
       "Selling Price       False\n",
       "Platform fee        False\n",
       "Total Revenue       False\n",
       "dtype: bool"
      ]
     },
     "execution_count": 57,
     "metadata": {},
     "output_type": "execute_result"
    }
   ],
   "source": [
    "ndata.isnull().any()"
   ]
  },
  {
   "cell_type": "code",
   "execution_count": 58,
   "metadata": {},
   "outputs": [
    {
     "data": {
      "text/plain": [
       "<matplotlib.axes._subplots.AxesSubplot at 0x22dbfc6b748>"
      ]
     },
     "execution_count": 58,
     "metadata": {},
     "output_type": "execute_result"
    },
    {
     "data": {
      "image/png": "[encoded data removed]",
      "text/plain": [
       "<Figure size 720x288 with 1 Axes>"
      ]
     },
     "metadata": {
      "needs_background": "light"
     },
     "output_type": "display_data"
    }
   ],
   "source": [
    "# Visualizations \n",
    "\n",
    "# Much less of a skew happening - most distribution around $50 - 100.\n",
    "\n",
    "ndata[\"Convenience fee\"].hist(figsize=(10, 4))\n"
   ]
  },
  {
   "cell_type": "code",
   "execution_count": 59,
   "metadata": {},
   "outputs": [
    {
     "data": {
      "text/plain": [
       "<matplotlib.axes._subplots.AxesSubplot at 0x22dbfc8bc08>"
      ]
     },
     "execution_count": 59,
     "metadata": {},
     "output_type": "execute_result"
    },
    {
     "data": {
      "image/png": "[encoded data removed]",
      "text/plain": [
       "<Figure size 720x288 with 1 Axes>"
      ]
     },
     "metadata": {
      "needs_background": "light"
     },
     "output_type": "display_data"
    }
   ],
   "source": [
    "# More even looking spread\n",
    "\n",
    "ndata[\"Platform fee\"].hist(figsize=(10, 4))"
   ]
  },
  {
   "cell_type": "code",
   "execution_count": 60,
   "metadata": {},
   "outputs": [
    {
     "data": {
      "image/png": "[encoded data removed]",
      "text/plain": [
       "<Figure size 1152x576 with 1 Axes>"
      ]
     },
     "metadata": {
      "needs_background": "light"
     },
     "output_type": "display_data"
    }
   ],
   "source": [
    "# Most of the selling price is clusterd on the lower end - less than $200\n",
    "\n",
    "fig, ax = plt.subplots(figsize = (16,8))\n",
    "ax.scatter(ndata['Selling Price'], ndata['Total Revenue'])\n",
    "ax.set_xlabel('Selling Price')\n",
    "ax.set_ylabel('Total Revenue')\n",
    "plt.show()"
   ]
  },
  {
   "cell_type": "markdown",
   "metadata": {},
   "source": [
    "There appears to be an almost perfect linear relationship between selling price and total revenue. As the selling price increases, so does total revenue."
   ]
  },
  {
   "cell_type": "code",
   "execution_count": 61,
   "metadata": {},
   "outputs": [
    {
     "data": {
      "image/png": "[encoded data removed]",
      "text/plain": [
       "<Figure size 1152x576 with 1 Axes>"
      ]
     },
     "metadata": {
      "needs_background": "light"
     },
     "output_type": "display_data"
    }
   ],
   "source": [
    "fig, ax = plt.subplots(figsize = (16,8))\n",
    "ax.scatter(ndata['Base Price'], ndata['Total Revenue'])\n",
    "ax.set_xlabel('Base Price')\n",
    "ax.set_ylabel('Total Revenue')\n",
    "plt.show()"
   ]
  },
  {
   "cell_type": "code",
   "execution_count": 62,
   "metadata": {},
   "outputs": [
    {
     "data": {
      "image/png": "[encoded data removed]",
      "text/plain": [
       "<Figure size 432x288 with 1 Axes>"
      ]
     },
     "metadata": {},
     "output_type": "display_data"
    }
   ],
   "source": [
    "sns.set(style = \"whitegrid\")\n",
    "ax = sns.boxplot(x=data['Base Price'])"
   ]
  },
  {
   "cell_type": "code",
   "execution_count": 63,
   "metadata": {},
   "outputs": [
    {
     "data": {
      "image/png": "[encoded data removed]",
      "text/plain": [
       "<Figure size 720x720 with 25 Axes>"
      ]
     },
     "metadata": {},
     "output_type": "display_data"
    }
   ],
   "source": [
    "import pandas as pd\n",
    "import matplotlib.pyplot as plt\n",
    "%matplotlib inline\n",
    "plt.style.use('ggplot')\n",
    "from pandas.plotting import scatter_matrix\n",
    "\n",
    "\n",
    "scatter_matrix(ndata, alpha=0.2, figsize=(10, 10))\n",
    "plt.show()"
   ]
  },
  {
   "cell_type": "markdown",
   "metadata": {},
   "source": [
    "Since there is a perfect linear relationship for two variables with total revenue, the base model will be a linear regression."
   ]
  },
  {
   "cell_type": "markdown",
   "metadata": {},
   "source": [
    "# Linear Regression "
   ]
  },
  {
   "cell_type": "code",
   "execution_count": 64,
   "metadata": {},
   "outputs": [
    {
     "name": "stdout",
     "output_type": "stream",
     "text": [
      "                            OLS Regression Results                            \n",
      "==============================================================================\n",
      "Dep. Variable:          Total Revenue   R-squared:                       1.000\n",
      "Model:                            OLS   Adj. R-squared:                  1.000\n",
      "Method:                 Least Squares   F-statistic:                 2.712e+26\n",
      "Date:                Sat, 24 Apr 2021   Prob (F-statistic):               0.00\n",
      "Time:                        13:13:58   Log-Likelihood:                 820.94\n",
      "No. Observations:                  36   AIC:                            -1636.\n",
      "Df Residuals:                      33   BIC:                            -1631.\n",
      "Df Model:                           2                                         \n",
      "Covariance Type:            nonrobust                                         \n",
      "===================================================================================\n",
      "                      coef    std err          t      P>|t|      [0.025      0.975]\n",
      "-----------------------------------------------------------------------------------\n",
      "const           -1.208e-13   1.32e-11     -0.009      0.993    -2.7e-11    2.68e-11\n",
      "Base Price          0.3707   4.62e-11   8.03e+09      0.000       0.371       0.371\n",
      "Convenience fee -3.411e-13   2.23e-10     -0.002      0.999   -4.54e-10    4.54e-10\n",
      "Selling Price       0.8713   1.08e-10   8.03e+09      0.000       0.871       0.871\n",
      "Platform fee        0.0260   3.23e-12   8.03e+09      0.000       0.026       0.026\n",
      "==============================================================================\n",
      "Omnibus:                        5.445   Durbin-Watson:                   0.059\n",
      "Prob(Omnibus):                  0.066   Jarque-Bera (JB):                4.956\n",
      "Skew:                           0.907   Prob(JB):                       0.0839\n",
      "Kurtosis:                       2.876   Cond. No.                     3.95e+17\n",
      "==============================================================================\n",
      "\n",
      "Warnings:\n",
      "[1] Standard Errors assume that the covariance matrix of the errors is correctly specified.\n",
      "[2] The smallest eigenvalue is 2.06e-29. This might indicate that there are\n",
      "strong multicollinearity problems or that the design matrix is singular.\n"
     ]
    }
   ],
   "source": [
    "# Ok, so this model is saying that there's a perfect fit for predicting revenue.\n",
    "# Most likely, there's too much colinarity and skenness for the standard regression to be useful.\n",
    "\n",
    "X = ndata[['Base Price', 'Convenience fee', 'Selling Price', 'Platform fee']]\n",
    "y = ndata['Total Revenue']\n",
    "\n",
    "# Add a constant \n",
    "X = sm.add_constant(X)\n",
    "\n",
    "# Fit model \n",
    "\n",
    "model = sm.OLS(y, X).fit()\n",
    "predictions = model.predict(X)\n",
    "\n",
    "# Print model summary \n",
    "\n",
    "print_model = model.summary()\n",
    "print(print_model)"
   ]
  },
  {
   "cell_type": "code",
   "execution_count": 65,
   "metadata": {},
   "outputs": [
    {
     "data": {
      "image/png": "[encoded data removed]",
      "text/plain": [
       "<Figure size 432x288 with 1 Axes>"
      ]
     },
     "metadata": {},
     "output_type": "display_data"
    }
   ],
   "source": [
    "# Plot residuals\n",
    "\n",
    "fig = sm.graphics.influence_plot(model, criterion=\"cooks\")\n",
    "fig.tight_layout(pad=1.0)"
   ]
  },
  {
   "cell_type": "code",
   "execution_count": 66,
   "metadata": {},
   "outputs": [
    {
     "data": {
      "image/png": "[encoded data removed]",
      "text/plain": [
       "<Figure size 432x288 with 5 Axes>"
      ]
     },
     "metadata": {},
     "output_type": "display_data"
    }
   ],
   "source": [
    "fig = sm.graphics.plot_partregress_grid(model)\n",
    "fig.tight_layout(pad=1.5)"
   ]
  },
  {
   "cell_type": "code",
   "execution_count": 67,
   "metadata": {},
   "outputs": [
    {
     "data": {
      "image/png": "[encoded data removed]",
      "text/plain": [
       "<Figure size 432x288 with 4 Axes>"
      ]
     },
     "metadata": {},
     "output_type": "display_data"
    }
   ],
   "source": [
    "fig = sm.graphics.plot_regress_exog(model, \"Base Price\")\n",
    "fig.tight_layout(pad = 2.0)"
   ]
  },
  {
   "cell_type": "code",
   "execution_count": null,
   "metadata": {},
   "outputs": [],
   "source": [
    "# https://scipy-lectures.org/packages/scikit-learn/index.html"
   ]
  },
  {
   "cell_type": "markdown",
   "metadata": {},
   "source": [
    "# Random Forest Regressor"
   ]
  },
  {
   "cell_type": "code",
   "execution_count": 68,
   "metadata": {},
   "outputs": [],
   "source": [
    "# Create X & y matrices to make splits\n",
    "\n",
    "# features\n",
    "X = ndata[[\"Plan type\", \"Product name\", \"Payment Schedule\", \"Base Price\", \"Convenience fee\", \"Selling Price\", \"Platform fee\"]]\n",
    "\n",
    "# target\n",
    "y = ndata[\"Total Revenue\"]"
   ]
  },
  {
   "cell_type": "code",
   "execution_count": 69,
   "metadata": {},
   "outputs": [
    {
     "data": {
      "text/plain": [
       "(36, 15)"
      ]
     },
     "execution_count": 69,
     "metadata": {},
     "output_type": "execute_result"
    }
   ],
   "source": [
    "# Encode categorical variables\n",
    "\n",
    "X_encoded = pd.get_dummies(X)\n",
    "\n",
    "X_encoded.shape"
   ]
  },
  {
   "cell_type": "code",
   "execution_count": 70,
   "metadata": {},
   "outputs": [
    {
     "data": {
      "text/html": [
       "<div>\n",
       "<style scoped>\n",
       "    .dataframe tbody tr th:only-of-type {\n",
       "        vertical-align: middle;\n",
       "    }\n",
       "\n",
       "    .dataframe tbody tr th {\n",
       "        vertical-align: top;\n",
       "    }\n",
       "\n",
       "    .dataframe thead th {\n",
       "        text-align: right;\n",
       "    }\n",
       "</style>\n",
       "<table border=\"1\" class=\"dataframe\">\n",
       "  <thead>\n",
       "    <tr style=\"text-align: right;\">\n",
       "      <th></th>\n",
       "      <th>Base Price</th>\n",
       "      <th>Convenience fee</th>\n",
       "      <th>Selling Price</th>\n",
       "      <th>Platform fee</th>\n",
       "      <th>Plan type_Family 2</th>\n",
       "      <th>Plan type_Family 3</th>\n",
       "      <th>Plan type_Family 4</th>\n",
       "      <th>Plan type_Family 5</th>\n",
       "      <th>Plan type_Family 6</th>\n",
       "      <th>Plan type_Single</th>\n",
       "      <th>Product name_Fleri Bronze</th>\n",
       "      <th>Product name_Fleri Gold</th>\n",
       "      <th>Product name_Fleri Platinum</th>\n",
       "      <th>Product name_Fleri Silver</th>\n",
       "      <th>Payment Schedule_Monthly</th>\n",
       "    </tr>\n",
       "  </thead>\n",
       "  <tbody>\n",
       "    <tr>\n",
       "      <th>0</th>\n",
       "      <td>29.0</td>\n",
       "      <td>39.2</td>\n",
       "      <td>68.15</td>\n",
       "      <td>2.03</td>\n",
       "      <td>0</td>\n",
       "      <td>0</td>\n",
       "      <td>0</td>\n",
       "      <td>0</td>\n",
       "      <td>0</td>\n",
       "      <td>1</td>\n",
       "      <td>1</td>\n",
       "      <td>0</td>\n",
       "      <td>0</td>\n",
       "      <td>0</td>\n",
       "      <td>1</td>\n",
       "    </tr>\n",
       "    <tr>\n",
       "      <th>1</th>\n",
       "      <td>39.0</td>\n",
       "      <td>52.7</td>\n",
       "      <td>91.65</td>\n",
       "      <td>2.73</td>\n",
       "      <td>0</td>\n",
       "      <td>0</td>\n",
       "      <td>0</td>\n",
       "      <td>0</td>\n",
       "      <td>0</td>\n",
       "      <td>1</td>\n",
       "      <td>0</td>\n",
       "      <td>0</td>\n",
       "      <td>0</td>\n",
       "      <td>1</td>\n",
       "      <td>1</td>\n",
       "    </tr>\n",
       "    <tr>\n",
       "      <th>2</th>\n",
       "      <td>57.0</td>\n",
       "      <td>77.0</td>\n",
       "      <td>133.95</td>\n",
       "      <td>3.99</td>\n",
       "      <td>0</td>\n",
       "      <td>0</td>\n",
       "      <td>0</td>\n",
       "      <td>0</td>\n",
       "      <td>0</td>\n",
       "      <td>1</td>\n",
       "      <td>0</td>\n",
       "      <td>1</td>\n",
       "      <td>0</td>\n",
       "      <td>0</td>\n",
       "      <td>1</td>\n",
       "    </tr>\n",
       "    <tr>\n",
       "      <th>3</th>\n",
       "      <td>70.0</td>\n",
       "      <td>94.5</td>\n",
       "      <td>164.50</td>\n",
       "      <td>4.90</td>\n",
       "      <td>0</td>\n",
       "      <td>0</td>\n",
       "      <td>0</td>\n",
       "      <td>0</td>\n",
       "      <td>0</td>\n",
       "      <td>1</td>\n",
       "      <td>0</td>\n",
       "      <td>0</td>\n",
       "      <td>1</td>\n",
       "      <td>0</td>\n",
       "      <td>1</td>\n",
       "    </tr>\n",
       "    <tr>\n",
       "      <th>4</th>\n",
       "      <td>32.0</td>\n",
       "      <td>43.2</td>\n",
       "      <td>75.20</td>\n",
       "      <td>2.24</td>\n",
       "      <td>0</td>\n",
       "      <td>0</td>\n",
       "      <td>0</td>\n",
       "      <td>0</td>\n",
       "      <td>0</td>\n",
       "      <td>1</td>\n",
       "      <td>1</td>\n",
       "      <td>0</td>\n",
       "      <td>0</td>\n",
       "      <td>0</td>\n",
       "      <td>1</td>\n",
       "    </tr>\n",
       "  </tbody>\n",
       "</table>\n",
       "</div>"
      ],
      "text/plain": [
       "   Base Price  Convenience fee  Selling Price  Platform fee  \\\n",
       "0        29.0             39.2          68.15          2.03   \n",
       "1        39.0             52.7          91.65          2.73   \n",
       "2        57.0             77.0         133.95          3.99   \n",
       "3        70.0             94.5         164.50          4.90   \n",
       "4        32.0             43.2          75.20          2.24   \n",
       "\n",
       "   Plan type_Family 2  Plan type_Family 3  Plan type_Family 4  \\\n",
       "0                   0                   0                   0   \n",
       "1                   0                   0                   0   \n",
       "2                   0                   0                   0   \n",
       "3                   0                   0                   0   \n",
       "4                   0                   0                   0   \n",
       "\n",
       "   Plan type_Family 5  Plan type_Family 6  Plan type_Single  \\\n",
       "0                   0                   0                 1   \n",
       "1                   0                   0                 1   \n",
       "2                   0                   0                 1   \n",
       "3                   0                   0                 1   \n",
       "4                   0                   0                 1   \n",
       "\n",
       "   Product name_Fleri Bronze  Product name_Fleri Gold  \\\n",
       "0                          1                        0   \n",
       "1                          0                        0   \n",
       "2                          0                        1   \n",
       "3                          0                        0   \n",
       "4                          1                        0   \n",
       "\n",
       "   Product name_Fleri Platinum  Product name_Fleri Silver  \\\n",
       "0                            0                          0   \n",
       "1                            0                          1   \n",
       "2                            0                          0   \n",
       "3                            1                          0   \n",
       "4                            0                          0   \n",
       "\n",
       "   Payment Schedule_Monthly  \n",
       "0                         1  \n",
       "1                         1  \n",
       "2                         1  \n",
       "3                         1  \n",
       "4                         1  "
      ]
     },
     "execution_count": 70,
     "metadata": {},
     "output_type": "execute_result"
    }
   ],
   "source": [
    "X_encoded.head()"
   ]
  },
  {
   "cell_type": "code",
   "execution_count": 71,
   "metadata": {},
   "outputs": [],
   "source": [
    "# Make 80/20 split\n",
    "\n",
    "from sklearn.model_selection import train_test_split\n",
    "\n",
    "X_train, X_test, y_train, y_test = train_test_split(X_encoded, y, test_size=0.20, random_state=42)"
   ]
  },
  {
   "cell_type": "code",
   "execution_count": 72,
   "metadata": {},
   "outputs": [
    {
     "name": "stdout",
     "output_type": "stream",
     "text": [
      "Wall time: 8.98 ms\n"
     ]
    },
    {
     "data": {
      "text/plain": [
       "RandomForestRegressor(bootstrap=True, criterion='mse', max_depth=None,\n",
       "                      max_features='auto', max_leaf_nodes=None,\n",
       "                      min_impurity_decrease=0.0, min_impurity_split=None,\n",
       "                      min_samples_leaf=1, min_samples_split=2,\n",
       "                      min_weight_fraction_leaf=0.0, n_estimators=10,\n",
       "                      n_jobs=None, oob_score=False, random_state=45, verbose=0,\n",
       "                      warm_start=False)"
      ]
     },
     "execution_count": 72,
     "metadata": {},
     "output_type": "execute_result"
    }
   ],
   "source": [
    "# Create object and fit onto training set\n",
    "\n",
    "start_time = time.time()\n",
    "\n",
    "rf_reg = RandomForestRegressor(random_state=45)\n",
    "\n",
    "%time rf_reg.fit(X_train, y_train)"
   ]
  },
  {
   "cell_type": "code",
   "execution_count": 73,
   "metadata": {},
   "outputs": [
    {
     "data": {
      "text/plain": [
       "0.9980230217919084"
      ]
     },
     "execution_count": 73,
     "metadata": {},
     "output_type": "execute_result"
    }
   ],
   "source": [
    "rf_reg.score(X_train, y_train)"
   ]
  },
  {
   "cell_type": "code",
   "execution_count": 74,
   "metadata": {},
   "outputs": [],
   "source": [
    "# Make prediction to get predicted classes\n",
    "\n",
    "y_pred = rf_reg.predict(X_test)"
   ]
  },
  {
   "cell_type": "code",
   "execution_count": 75,
   "metadata": {},
   "outputs": [
    {
     "name": "stdout",
     "output_type": "stream",
     "text": [
      "Mean Absolute Error: 14.70149999999999\n",
      "Mean Squared Error: 547.1341699999994\n",
      "Root Mean Squared Error: 23.390899298658855\n",
      "R-Squared: 0.9753892760268532\n"
     ]
    }
   ],
   "source": [
    "from sklearn import metrics\n",
    "\n",
    "print('Mean Absolute Error:', metrics.mean_absolute_error(y_test, y_pred))  \n",
    "print('Mean Squared Error:', metrics.mean_squared_error(y_test, y_pred))  \n",
    "print('Root Mean Squared Error:', np.sqrt(metrics.mean_squared_error(y_test, y_pred))) \n",
    "print('R-Squared:', metrics.r2_score(y_test, y_pred))"
   ]
  },
  {
   "cell_type": "code",
   "execution_count": 76,
   "metadata": {},
   "outputs": [
    {
     "data": {
      "text/plain": [
       "array([ 79.134, 114.466, 107.69 , 479.644,  74.536,  77.682, 371.47 ,\n",
       "       200.134, 192.632, 105.27 , 189.486,  97.284, 293.304, 138.666,\n",
       "       461.252, 164.318, 371.47 , 251.922, 293.788, 158.026, 206.668,\n",
       "       157.3  , 334.686, 153.67 , 214.17 , 182.468, 163.35 , 342.43 ])"
      ]
     },
     "execution_count": 76,
     "metadata": {},
     "output_type": "execute_result"
    }
   ],
   "source": [
    "y_pred_tr = rf_reg.predict(X_train)\n",
    "\n",
    "y_pred_tr"
   ]
  },
  {
   "cell_type": "code",
   "execution_count": 77,
   "metadata": {},
   "outputs": [
    {
     "name": "stdout",
     "output_type": "stream",
     "text": [
      "Feature ranking:\n",
      "1. feature 2 (0.433066)\n",
      "2. feature 1 (0.282187)\n",
      "3. feature 3 (0.158217)\n",
      "4. feature 0 (0.121022)\n",
      "5. feature 6 (0.002715)\n",
      "6. feature 13 (0.001699)\n",
      "7. feature 7 (0.000903)\n"
     ]
    },
    {
     "data": {
      "image/png": "[encoded data removed]",
      "text/plain": [
       "<Figure size 864x576 with 1 Axes>"
      ]
     },
     "metadata": {},
     "output_type": "display_data"
    }
   ],
   "source": [
    "# Feature importance\n",
    "\n",
    "#import matplotlib as plt \n",
    "import matplotlib.pyplot as plt\n",
    "\n",
    "importances = rf_reg.feature_importances_\n",
    "\n",
    "std = np.std([tree.feature_importances_ for tree in rf_reg.estimators_],\n",
    "             axis=0)\n",
    "\n",
    "indices = np.argsort(importances)[::-1]\n",
    "\n",
    "# Print the feature ranking\n",
    "print(\"Feature ranking:\")\n",
    "\n",
    "for f in range(X.shape[1]):\n",
    "    print(\"%d. feature %d (%f)\" % (f + 1, indices[f], importances[indices[f]]))\n",
    "\n",
    "# Plot the feature importances of the forest\n",
    "plt.figure(figsize = (12,8))\n",
    "plt.title(\"Feature importances\")\n",
    "plt.bar(range(X_train.shape[1]), importances[indices],\n",
    "       color=\"r\", yerr=std[indices], align=\"center\")\n",
    "plt.xticks(range(X.shape[1]), indices)\n",
    "plt.xlim([-1, X_train.shape[1]])\n",
    "plt.show()\n",
    "\n"
   ]
  },
  {
   "cell_type": "code",
   "execution_count": 78,
   "metadata": {},
   "outputs": [
    {
     "data": {
      "text/plain": [
       "Index(['Base Price', 'Convenience fee', 'Selling Price', 'Platform fee',\n",
       "       'Plan type_Family 2', 'Plan type_Family 3', 'Plan type_Family 4',\n",
       "       'Plan type_Family 5', 'Plan type_Family 6', 'Plan type_Single',\n",
       "       'Product name_Fleri Bronze', 'Product name_Fleri Gold',\n",
       "       'Product name_Fleri Platinum', 'Product name_Fleri Silver',\n",
       "       'Payment Schedule_Monthly'],\n",
       "      dtype='object')"
      ]
     },
     "execution_count": 78,
     "metadata": {},
     "output_type": "execute_result"
    }
   ],
   "source": [
    "X_train.columns"
   ]
  },
  {
   "cell_type": "code",
   "execution_count": 79,
   "metadata": {},
   "outputs": [
    {
     "data": {
      "text/plain": [
       "Index(['Plan type', 'Product name', 'Payment Schedule', 'Base Price',\n",
       "       'Convenience fee', 'Selling Price', 'Platform fee'],\n",
       "      dtype='object')"
      ]
     },
     "execution_count": 79,
     "metadata": {},
     "output_type": "execute_result"
    }
   ],
   "source": [
    "X.columns"
   ]
  },
  {
   "cell_type": "code",
   "execution_count": 80,
   "metadata": {},
   "outputs": [
    {
     "ename": "ValueError",
     "evalue": "Unknown label type: 'continuous'",
     "output_type": "error",
     "traceback": [
      "\u001b[1;31m---------------------------------------------------------------------------\u001b[0m",
      "\u001b[1;31mValueError\u001b[0m                                Traceback (most recent call last)",
      "\u001b[1;32m<ipython-input-80-2bbfddd4fcc3>\u001b[0m in \u001b[0;36m<module>\u001b[1;34m\u001b[0m\n\u001b[0;32m      4\u001b[0m \u001b[1;33m\u001b[0m\u001b[0m\n\u001b[0;32m      5\u001b[0m \u001b[0mmodel\u001b[0m \u001b[1;33m=\u001b[0m \u001b[0mRandomForestClassifier\u001b[0m\u001b[1;33m(\u001b[0m\u001b[1;33m)\u001b[0m\u001b[1;33m\u001b[0m\u001b[1;33m\u001b[0m\u001b[0m\n\u001b[1;32m----> 6\u001b[1;33m \u001b[0mmodel\u001b[0m\u001b[1;33m.\u001b[0m\u001b[0mfit\u001b[0m\u001b[1;33m(\u001b[0m\u001b[0mX_train\u001b[0m\u001b[1;33m,\u001b[0m \u001b[0my_train\u001b[0m\u001b[1;33m)\u001b[0m\u001b[1;33m\u001b[0m\u001b[1;33m\u001b[0m\u001b[0m\n\u001b[0m\u001b[0;32m      7\u001b[0m \u001b[1;33m\u001b[0m\u001b[0m\n\u001b[0;32m      8\u001b[0m (pd.Series(model.feature_importances_, index = X_train.columns)\n",
      "\u001b[1;32mC:\\ProgramData\\Miniconda3\\lib\\site-packages\\sklearn\\ensemble\\forest.py\u001b[0m in \u001b[0;36mfit\u001b[1;34m(self, X, y, sample_weight)\u001b[0m\n\u001b[0;32m    273\u001b[0m         \u001b[0mself\u001b[0m\u001b[1;33m.\u001b[0m\u001b[0mn_outputs_\u001b[0m \u001b[1;33m=\u001b[0m \u001b[0my\u001b[0m\u001b[1;33m.\u001b[0m\u001b[0mshape\u001b[0m\u001b[1;33m[\u001b[0m\u001b[1;36m1\u001b[0m\u001b[1;33m]\u001b[0m\u001b[1;33m\u001b[0m\u001b[1;33m\u001b[0m\u001b[0m\n\u001b[0;32m    274\u001b[0m \u001b[1;33m\u001b[0m\u001b[0m\n\u001b[1;32m--> 275\u001b[1;33m         \u001b[0my\u001b[0m\u001b[1;33m,\u001b[0m \u001b[0mexpanded_class_weight\u001b[0m \u001b[1;33m=\u001b[0m \u001b[0mself\u001b[0m\u001b[1;33m.\u001b[0m\u001b[0m_validate_y_class_weight\u001b[0m\u001b[1;33m(\u001b[0m\u001b[0my\u001b[0m\u001b[1;33m)\u001b[0m\u001b[1;33m\u001b[0m\u001b[1;33m\u001b[0m\u001b[0m\n\u001b[0m\u001b[0;32m    276\u001b[0m \u001b[1;33m\u001b[0m\u001b[0m\n\u001b[0;32m    277\u001b[0m         \u001b[1;32mif\u001b[0m \u001b[0mgetattr\u001b[0m\u001b[1;33m(\u001b[0m\u001b[0my\u001b[0m\u001b[1;33m,\u001b[0m \u001b[1;34m\"dtype\"\u001b[0m\u001b[1;33m,\u001b[0m \u001b[1;32mNone\u001b[0m\u001b[1;33m)\u001b[0m \u001b[1;33m!=\u001b[0m \u001b[0mDOUBLE\u001b[0m \u001b[1;32mor\u001b[0m \u001b[1;32mnot\u001b[0m \u001b[0my\u001b[0m\u001b[1;33m.\u001b[0m\u001b[0mflags\u001b[0m\u001b[1;33m.\u001b[0m\u001b[0mcontiguous\u001b[0m\u001b[1;33m:\u001b[0m\u001b[1;33m\u001b[0m\u001b[1;33m\u001b[0m\u001b[0m\n",
      "\u001b[1;32mC:\\ProgramData\\Miniconda3\\lib\\site-packages\\sklearn\\ensemble\\forest.py\u001b[0m in \u001b[0;36m_validate_y_class_weight\u001b[1;34m(self, y)\u001b[0m\n\u001b[0;32m    476\u001b[0m \u001b[1;33m\u001b[0m\u001b[0m\n\u001b[0;32m    477\u001b[0m     \u001b[1;32mdef\u001b[0m \u001b[0m_validate_y_class_weight\u001b[0m\u001b[1;33m(\u001b[0m\u001b[0mself\u001b[0m\u001b[1;33m,\u001b[0m \u001b[0my\u001b[0m\u001b[1;33m)\u001b[0m\u001b[1;33m:\u001b[0m\u001b[1;33m\u001b[0m\u001b[1;33m\u001b[0m\u001b[0m\n\u001b[1;32m--> 478\u001b[1;33m         \u001b[0mcheck_classification_targets\u001b[0m\u001b[1;33m(\u001b[0m\u001b[0my\u001b[0m\u001b[1;33m)\u001b[0m\u001b[1;33m\u001b[0m\u001b[1;33m\u001b[0m\u001b[0m\n\u001b[0m\u001b[0;32m    479\u001b[0m \u001b[1;33m\u001b[0m\u001b[0m\n\u001b[0;32m    480\u001b[0m         \u001b[0my\u001b[0m \u001b[1;33m=\u001b[0m \u001b[0mnp\u001b[0m\u001b[1;33m.\u001b[0m\u001b[0mcopy\u001b[0m\u001b[1;33m(\u001b[0m\u001b[0my\u001b[0m\u001b[1;33m)\u001b[0m\u001b[1;33m\u001b[0m\u001b[1;33m\u001b[0m\u001b[0m\n",
      "\u001b[1;32mC:\\ProgramData\\Miniconda3\\lib\\site-packages\\sklearn\\utils\\multiclass.py\u001b[0m in \u001b[0;36mcheck_classification_targets\u001b[1;34m(y)\u001b[0m\n\u001b[0;32m    167\u001b[0m     if y_type not in ['binary', 'multiclass', 'multiclass-multioutput',\n\u001b[0;32m    168\u001b[0m                       'multilabel-indicator', 'multilabel-sequences']:\n\u001b[1;32m--> 169\u001b[1;33m         \u001b[1;32mraise\u001b[0m \u001b[0mValueError\u001b[0m\u001b[1;33m(\u001b[0m\u001b[1;34m\"Unknown label type: %r\"\u001b[0m \u001b[1;33m%\u001b[0m \u001b[0my_type\u001b[0m\u001b[1;33m)\u001b[0m\u001b[1;33m\u001b[0m\u001b[1;33m\u001b[0m\u001b[0m\n\u001b[0m\u001b[0;32m    170\u001b[0m \u001b[1;33m\u001b[0m\u001b[0m\n\u001b[0;32m    171\u001b[0m \u001b[1;33m\u001b[0m\u001b[0m\n",
      "\u001b[1;31mValueError\u001b[0m: Unknown label type: 'continuous'"
     ]
    }
   ],
   "source": [
    "import pandas as pd\n",
    "from sklearn.ensemble import RandomForestClassifier\n",
    "%matplotlib inline \n",
    "\n",
    "model = RandomForestClassifier()\n",
    "model.fit(X_train, y_train)\n",
    "\n",
    "(pd.Series(model.feature_importances_, index = X_train.columns)\n",
    "   .nlargest(4)\n",
    "   .plot(kind='barh'))"
   ]
  },
  {
   "cell_type": "code",
   "execution_count": 81,
   "metadata": {},
   "outputs": [
    {
     "data": {
      "text/plain": [
       "Base Price                     2479.00\n",
       "Convenience fee                3347.50\n",
       "Selling Price                  5825.65\n",
       "Platform fee                    173.53\n",
       "Plan type_Family 2                0.00\n",
       "Plan type_Family 3                4.00\n",
       "Plan type_Family 4                4.00\n",
       "Plan type_Family 5                4.00\n",
       "Plan type_Family 6                2.00\n",
       "Plan type_Single                 14.00\n",
       "Product name_Fleri Bronze         7.00\n",
       "Product name_Fleri Gold           7.00\n",
       "Product name_Fleri Platinum       7.00\n",
       "Product name_Fleri Silver         7.00\n",
       "Payment Schedule_Monthly         28.00\n",
       "dtype: float64"
      ]
     },
     "execution_count": 81,
     "metadata": {},
     "output_type": "execute_result"
    }
   ],
   "source": [
    "X_train.sum(axis='index')"
   ]
  },
  {
   "cell_type": "code",
   "execution_count": 82,
   "metadata": {},
   "outputs": [
    {
     "data": {
      "text/plain": [
       "Base Price                      775.00\n",
       "Convenience fee                1046.60\n",
       "Selling Price                  1821.25\n",
       "Platform fee                     54.25\n",
       "Plan type_Family 2                4.00\n",
       "Plan type_Family 3                0.00\n",
       "Plan type_Family 4                0.00\n",
       "Plan type_Family 5                0.00\n",
       "Plan type_Family 6                2.00\n",
       "Plan type_Single                  2.00\n",
       "Product name_Fleri Bronze         2.00\n",
       "Product name_Fleri Gold           2.00\n",
       "Product name_Fleri Platinum       2.00\n",
       "Product name_Fleri Silver         2.00\n",
       "Payment Schedule_Monthly          8.00\n",
       "dtype: float64"
      ]
     },
     "execution_count": 82,
     "metadata": {},
     "output_type": "execute_result"
    }
   ],
   "source": [
    "# Mean of predicted dataset\n",
    "\n",
    "X_test.sum(axis='index')"
   ]
  },
  {
   "cell_type": "code",
   "execution_count": null,
   "metadata": {},
   "outputs": [],
   "source": []
  }
 ],
 "metadata": {
  "kernelspec": {
   "display_name": "Python 3",
   "language": "python",
   "name": "python3"
  },
  "language_info": {
   "codemirror_mode": {
    "name": "ipython",
    "version": 3
   },
   "file_extension": ".py",
   "mimetype": "text/x-python",
   "name": "python",
   "nbconvert_exporter": "python",
   "pygments_lexer": "ipython3",
   "version": "3.7.4"
  }
 },
 "nbformat": 4,
 "nbformat_minor": 2
}
